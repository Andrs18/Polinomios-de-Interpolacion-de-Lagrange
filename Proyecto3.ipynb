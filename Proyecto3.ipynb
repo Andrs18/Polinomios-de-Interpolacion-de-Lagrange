{
 "cells": [
  {
   "cell_type": "code",
   "execution_count": 4,
   "metadata": {},
   "outputs": [
    {
     "name": "stdout",
     "output_type": "stream",
     "text": [
      "introduce el valor de los datos conocidos: 4\n",
      "introduce el valor para x_0 1\n",
      "introduce el valor para f(x_0) 1\n",
      "introduce el valor para x_1 2\n",
      "introduce el valor para f(x_1) 4\n",
      "introduce el valor para x_2 4\n",
      "introduce el valor para f(x_2) 16\n",
      "introduce el valor para x_3 5\n",
      "introduce el valor para f(x_3) 25\n",
      "introduce el valor de x para calcular f(x): 3\n",
      "  ⎛                        2                             ⎞\n",
      "x⋅⎝- 4.44089209850063e-16⋅x  + 1.0⋅x + 7.105427357601e-15⎠\n",
      "x = [1.0, 2.0, 3.0, 4.0, 5.0]\n",
      "y = [1.0, 4.0, 9.000000000000009, 16.0, 25.0]\n"
     ]
    },
    {
     "data": {
      "text/plain": [
       "Text(0, 0.5, 'y')"
      ]
     },
     "execution_count": 4,
     "metadata": {},
     "output_type": "execute_result"
    },
    {
     "data": {
      "image/png": "[encoded data removed]",
      "text/plain": [
       "<Figure size 432x288 with 1 Axes>"
      ]
     },
     "metadata": {
      "needs_background": "light"
     },
     "output_type": "display_data"
    }
   ],
   "source": [
    "import sympy\n",
    "import matplotlib.pyplot as plt\n",
    "from sympy import *\n",
    "import numpy as np\n",
    "\n",
    "init_printing()\n",
    "\n",
    "num = int(input(\"introduce el valor de los datos conocidos: \"))\n",
    "datos_x = []\n",
    "datos_y = []\n",
    "\n",
    "for e in range(0,num):\n",
    "    x_c = float(input(\"introduce el valor para x_\"+str(e)+\" \"))\n",
    "    datos_x.append(x_c)\n",
    "    fx = float(input(\"introduce el valor para f(x_\"+str(e)+\") \"))\n",
    "    datos_y.append(fx)\n",
    "x_d = float(input(\"introduce el valor de x para calcular f(x): \"))\n",
    "x = symbols('x')\n",
    "Polinomio = 0\n",
    "l=[]\n",
    "\n",
    "for i in datos_x:\n",
    "    li=(np.prod([(x-j)/(i-j) for j in datos_x if i !=j]))\n",
    "    l.append(li)\n",
    "    \n",
    "Polinomio=np.dot(datos_y, l)\n",
    "Final=simplify(Polinomio)\n",
    "pprint(Final)\n",
    "\n",
    "dato= {x:x_d}\n",
    "y_d=float(Final.evalf(subs=dato))\n",
    "format(\"%.2f\" %y_d)\n",
    "datos_x.append(x_d) , datos_y.append(y_d)\n",
    "datos_x.sort() , datos_y.sort()\n",
    "print(\"x =\", datos_x)\n",
    "print(\"y =\", datos_y)\n",
    "\n",
    "\n",
    "#Cálculo de datos próximos al deseado\n",
    "\n",
    "D_y = []\n",
    "D_x1 = []\n",
    "D_x2 = []\n",
    "for n1 in range(25,0,-1):\n",
    "    Dx1 = y_d - n1\n",
    "    D_x1.append(Dx1)\n",
    "    D_y.append(sympy.sympify(Final).subs(x,Dx1))\n",
    "\n",
    "for n2 in range(25):\n",
    "    Dx2 = y_d + n2\n",
    "    D_x2.append(Dx2)\n",
    "    D_y.append(sympy.sympify(Final).subs(x,Dx2))\n",
    "    \n",
    "D_x3 = D_x1 + D_x2\n",
    "\n",
    "#####\n",
    "\n",
    "\n",
    "plt.plot(D_x3,D_y)\n",
    "plt.xlabel('x')\n",
    "plt.ylabel('y')"
   ]
  },
  {
   "cell_type": "code",
   "execution_count": null,
   "metadata": {},
   "outputs": [],
   "source": []
  },
  {
   "cell_type": "code",
   "execution_count": null,
   "metadata": {},
   "outputs": [],
   "source": []
  }
 ],
 "metadata": {
  "kernelspec": {
   "display_name": "Python 3",
   "language": "python",
   "name": "python3"
  }
 },
 "nbformat": 4,
 "nbformat_minor": 2
}
